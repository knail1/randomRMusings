{
  "nbformat": 4,
  "nbformat_minor": 0,
  "metadata": {
    "colab": {
      "name": "01-Intro-to-simpy.ipynb",
      "provenance": [],
      "authorship_tag": "ABX9TyMe3iNgM1wnq5N43QXHT0Mf",
      "include_colab_link": true
    },
    "kernelspec": {
      "name": "python3",
      "display_name": "Python 3"
    },
    "language_info": {
      "name": "python"
    }
  },
  "cells": [
    {
      "cell_type": "markdown",
      "metadata": {
        "id": "view-in-github",
        "colab_type": "text"
      },
      "source": [
        "<a href=\"https://colab.research.google.com/github/knail1/randomRMusings/blob/master/tardySchool/test-01_Intro_to_simpy.ipynb\" target=\"_parent\"><img src=\"https://colab.research.google.com/assets/colab-badge.svg\" alt=\"Open In Colab\"/></a>"
      ]
    },
    {
      "cell_type": "markdown",
      "source": [
        "# Test Google colab"
      ],
      "metadata": {
        "id": "SQDO5ktqXePJ"
      }
    },
    {
      "cell_type": "code",
      "execution_count": null,
      "metadata": {
        "id": "1xTiZs3YBHRv"
      },
      "outputs": [],
      "source": [
        ""
      ]
    }
  ]
}